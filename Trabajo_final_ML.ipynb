{
  "nbformat": 4,
  "nbformat_minor": 0,
  "metadata": {
    "colab": {
      "name": "Trabajo_final_ML.ipynb",
      "provenance": [],
      "collapsed_sections": [],
      "include_colab_link": true
    },
    "kernelspec": {
      "name": "python3",
      "display_name": "Python 3"
    },
    "language_info": {
      "name": "python"
    }
  },
  "cells": [
    {
      "cell_type": "markdown",
      "metadata": {
        "id": "view-in-github",
        "colab_type": "text"
      },
      "source": [
        "<a href=\"https://colab.research.google.com/github/caveligh/Colab_Projects/blob/main/Trabajo_final_ML.ipynb\" target=\"_parent\"><img src=\"https://colab.research.google.com/assets/colab-badge.svg\" alt=\"Open In Colab\"/></a>"
      ]
    },
    {
      "cell_type": "code",
      "metadata": {
        "colab": {
          "base_uri": "https://localhost:8080/",
          "height": 732
        },
        "id": "P3bCJOfNGftH",
        "outputId": "7e52c4ab-ea19-4e54-84ca-f498523662b9"
      },
      "source": [
        "pip install investpy"
      ],
      "execution_count": null,
      "outputs": [
        {
          "output_type": "stream",
          "name": "stdout",
          "text": [
            "Collecting investpy\n",
            "  Downloading investpy-1.0.7.tar.gz (4.4 MB)\n",
            "\u001b[K     |████████████████████████████████| 4.4 MB 33.0 MB/s \n",
            "\u001b[?25hCollecting Unidecode>=1.1.1\n",
            "  Downloading Unidecode-1.3.2-py3-none-any.whl (235 kB)\n",
            "\u001b[K     |████████████████████████████████| 235 kB 54.2 MB/s \n",
            "\u001b[?25hRequirement already satisfied: setuptools>=41.2.0 in /usr/local/lib/python3.7/dist-packages (from investpy) (57.4.0)\n",
            "Requirement already satisfied: numpy>=1.17.2 in /usr/local/lib/python3.7/dist-packages (from investpy) (1.19.5)\n",
            "Requirement already satisfied: pandas>=0.25.1 in /usr/local/lib/python3.7/dist-packages (from investpy) (1.1.5)\n",
            "Collecting lxml>=4.4.1\n",
            "  Downloading lxml-4.6.3-cp37-cp37m-manylinux2014_x86_64.whl (6.3 MB)\n",
            "\u001b[K     |████████████████████████████████| 6.3 MB 60.1 MB/s \n",
            "\u001b[?25hRequirement already satisfied: requests>=2.22.0 in /usr/local/lib/python3.7/dist-packages (from investpy) (2.23.0)\n",
            "Collecting pytz>=2019.3\n",
            "  Downloading pytz-2021.3-py2.py3-none-any.whl (503 kB)\n",
            "\u001b[K     |████████████████████████████████| 503 kB 61.2 MB/s \n",
            "\u001b[?25hRequirement already satisfied: python-dateutil>=2.7.3 in /usr/local/lib/python3.7/dist-packages (from pandas>=0.25.1->investpy) (2.8.2)\n",
            "Requirement already satisfied: six>=1.5 in /usr/local/lib/python3.7/dist-packages (from python-dateutil>=2.7.3->pandas>=0.25.1->investpy) (1.15.0)\n",
            "Requirement already satisfied: certifi>=2017.4.17 in /usr/local/lib/python3.7/dist-packages (from requests>=2.22.0->investpy) (2021.5.30)\n",
            "Requirement already satisfied: chardet<4,>=3.0.2 in /usr/local/lib/python3.7/dist-packages (from requests>=2.22.0->investpy) (3.0.4)\n",
            "Requirement already satisfied: urllib3!=1.25.0,!=1.25.1,<1.26,>=1.21.1 in /usr/local/lib/python3.7/dist-packages (from requests>=2.22.0->investpy) (1.24.3)\n",
            "Requirement already satisfied: idna<3,>=2.5 in /usr/local/lib/python3.7/dist-packages (from requests>=2.22.0->investpy) (2.10)\n",
            "Building wheels for collected packages: investpy\n",
            "  Building wheel for investpy (setup.py) ... \u001b[?25l\u001b[?25hdone\n",
            "  Created wheel for investpy: filename=investpy-1.0.7-py3-none-any.whl size=4495221 sha256=e31a977ec129b7da88942c9671767b0f5500d6c5d8122dcff1801ffc6c5fcd3b\n",
            "  Stored in directory: /root/.cache/pip/wheels/50/bb/ee/760eeb6cc7ed8efc1b1b23b13b6b9f17fb1ed530fb04bd16f5\n",
            "Successfully built investpy\n",
            "Installing collected packages: pytz, Unidecode, lxml, investpy\n",
            "  Attempting uninstall: pytz\n",
            "    Found existing installation: pytz 2018.9\n",
            "    Uninstalling pytz-2018.9:\n",
            "      Successfully uninstalled pytz-2018.9\n",
            "  Attempting uninstall: lxml\n",
            "    Found existing installation: lxml 4.2.6\n",
            "    Uninstalling lxml-4.2.6:\n",
            "      Successfully uninstalled lxml-4.2.6\n",
            "Successfully installed Unidecode-1.3.2 investpy-1.0.7 lxml-4.6.3 pytz-2021.3\n"
          ]
        },
        {
          "output_type": "display_data",
          "data": {
            "application/vnd.colab-display-data+json": {
              "pip_warning": {
                "packages": [
                  "pytz"
                ]
              }
            }
          },
          "metadata": {}
        }
      ]
    },
    {
      "cell_type": "code",
      "metadata": {
        "id": "BIMgVpsXEmQW"
      },
      "source": [
        "#Paquetes\n",
        "\n",
        "import pandas as pd\n",
        "import numpy as np\n",
        "from datetime import datetime\n",
        "import investpy"
      ],
      "execution_count": null,
      "outputs": []
    },
    {
      "cell_type": "code",
      "metadata": {
        "id": "PA_NRUaFbCke"
      },
      "source": [
        ""
      ],
      "execution_count": null,
      "outputs": []
    },
    {
      "cell_type": "code",
      "metadata": {
        "id": "IxGS2dhXFWkb",
        "colab": {
          "base_uri": "https://localhost:8080/",
          "height": 450
        },
        "outputId": "76f22354-d967-4c7d-eaeb-a64d2e33c58d"
      },
      "source": [
        "\n",
        "\n",
        "PRECIOS = investpy.get_currency_cross_historical_data(currency_cross='GBP/USD', from_date='03/01/2000', to_date= '18/10/2021')\n",
        "PRECIOS = PRECIOS.drop([\"Currency\"],axis=1)\n",
        "PRECIOS"
      ],
      "execution_count": 40,
      "outputs": [
        {
          "output_type": "execute_result",
          "data": {
            "text/html": [
              "<div>\n",
              "<style scoped>\n",
              "    .dataframe tbody tr th:only-of-type {\n",
              "        vertical-align: middle;\n",
              "    }\n",
              "\n",
              "    .dataframe tbody tr th {\n",
              "        vertical-align: top;\n",
              "    }\n",
              "\n",
              "    .dataframe thead th {\n",
              "        text-align: right;\n",
              "    }\n",
              "</style>\n",
              "<table border=\"1\" class=\"dataframe\">\n",
              "  <thead>\n",
              "    <tr style=\"text-align: right;\">\n",
              "      <th></th>\n",
              "      <th>Open</th>\n",
              "      <th>High</th>\n",
              "      <th>Low</th>\n",
              "      <th>Close</th>\n",
              "    </tr>\n",
              "    <tr>\n",
              "      <th>Date</th>\n",
              "      <th></th>\n",
              "      <th></th>\n",
              "      <th></th>\n",
              "      <th></th>\n",
              "    </tr>\n",
              "  </thead>\n",
              "  <tbody>\n",
              "    <tr>\n",
              "      <th>2000-01-03</th>\n",
              "      <td>1.6143</td>\n",
              "      <td>1.6397</td>\n",
              "      <td>1.6143</td>\n",
              "      <td>1.6370</td>\n",
              "    </tr>\n",
              "    <tr>\n",
              "      <th>2000-01-04</th>\n",
              "      <td>1.6363</td>\n",
              "      <td>1.6415</td>\n",
              "      <td>1.6315</td>\n",
              "      <td>1.6370</td>\n",
              "    </tr>\n",
              "    <tr>\n",
              "      <th>2000-01-05</th>\n",
              "      <td>1.6355</td>\n",
              "      <td>1.6452</td>\n",
              "      <td>1.6354</td>\n",
              "      <td>1.6420</td>\n",
              "    </tr>\n",
              "    <tr>\n",
              "      <th>2000-01-06</th>\n",
              "      <td>1.6422</td>\n",
              "      <td>1.6513</td>\n",
              "      <td>1.6413</td>\n",
              "      <td>1.6468</td>\n",
              "    </tr>\n",
              "    <tr>\n",
              "      <th>2000-01-07</th>\n",
              "      <td>1.6469</td>\n",
              "      <td>1.6500</td>\n",
              "      <td>1.6362</td>\n",
              "      <td>1.6387</td>\n",
              "    </tr>\n",
              "    <tr>\n",
              "      <th>...</th>\n",
              "      <td>...</td>\n",
              "      <td>...</td>\n",
              "      <td>...</td>\n",
              "      <td>...</td>\n",
              "    </tr>\n",
              "    <tr>\n",
              "      <th>2021-10-12</th>\n",
              "      <td>1.3599</td>\n",
              "      <td>1.3638</td>\n",
              "      <td>1.3569</td>\n",
              "      <td>1.3585</td>\n",
              "    </tr>\n",
              "    <tr>\n",
              "      <th>2021-10-13</th>\n",
              "      <td>1.3588</td>\n",
              "      <td>1.3665</td>\n",
              "      <td>1.3576</td>\n",
              "      <td>1.3659</td>\n",
              "    </tr>\n",
              "    <tr>\n",
              "      <th>2021-10-14</th>\n",
              "      <td>1.3657</td>\n",
              "      <td>1.3736</td>\n",
              "      <td>1.3654</td>\n",
              "      <td>1.3673</td>\n",
              "    </tr>\n",
              "    <tr>\n",
              "      <th>2021-10-15</th>\n",
              "      <td>1.3673</td>\n",
              "      <td>1.3774</td>\n",
              "      <td>1.3667</td>\n",
              "      <td>1.3749</td>\n",
              "    </tr>\n",
              "    <tr>\n",
              "      <th>2021-10-18</th>\n",
              "      <td>1.3751</td>\n",
              "      <td>1.3766</td>\n",
              "      <td>1.3708</td>\n",
              "      <td>1.3725</td>\n",
              "    </tr>\n",
              "  </tbody>\n",
              "</table>\n",
              "<p>5684 rows × 4 columns</p>\n",
              "</div>"
            ],
            "text/plain": [
              "              Open    High     Low   Close\n",
              "Date                                      \n",
              "2000-01-03  1.6143  1.6397  1.6143  1.6370\n",
              "2000-01-04  1.6363  1.6415  1.6315  1.6370\n",
              "2000-01-05  1.6355  1.6452  1.6354  1.6420\n",
              "2000-01-06  1.6422  1.6513  1.6413  1.6468\n",
              "2000-01-07  1.6469  1.6500  1.6362  1.6387\n",
              "...            ...     ...     ...     ...\n",
              "2021-10-12  1.3599  1.3638  1.3569  1.3585\n",
              "2021-10-13  1.3588  1.3665  1.3576  1.3659\n",
              "2021-10-14  1.3657  1.3736  1.3654  1.3673\n",
              "2021-10-15  1.3673  1.3774  1.3667  1.3749\n",
              "2021-10-18  1.3751  1.3766  1.3708  1.3725\n",
              "\n",
              "[5684 rows x 4 columns]"
            ]
          },
          "metadata": {},
          "execution_count": 40
        }
      ]
    },
    {
      "cell_type": "code",
      "metadata": {
        "id": "6tODrm6hDd67"
      },
      "source": [
        "# IMPORTAR CSV \n",
        "\n",
        "IPC_EEUU = pd.read_csv(\"/content/drive/MyDrive/Colab/IPCEE_UU.csv\")\n",
        "IPC_GBP = pd.read_csv(\"/content/drive/MyDrive/Colab/IPC_GBP.csv\")\n",
        "IPP_EEUU = pd.read_csv(\"/content/drive/MyDrive/Colab/IPPUSA.csv\")\n",
        "IPP_GBP = pd.read_csv(\"/content/drive/MyDrive/Colab/IPPGBP.csv\")\n",
        "UNEM_EEUU = pd.read_csv(\"/content/drive/MyDrive/Colab/UNEM_USA.csv\")\n",
        "UNEM_GBP = pd.read_csv(\"/content/drive/MyDrive/Colab/UNEMGBP.csv\")\n",
        "\n",
        "\n",
        "#IPC_EEUU = pd.read_csv('IPCEE_UU.csv')\n",
        "#IPC_GBP = pd.read_csv('IPC_GBP.csv')\n",
        "#IPP_EEUU = pd.read_csv('IPPUSA.csv')\n",
        "#IPP_GBP = pd.read_csv('IPPGBP.csv')\n",
        "#UNEM_EEUU = pd.read_csv('UNEM_USA.csv')\n",
        "#UNEM_GBP = pd.read_csv('UNEMGBP.csv')\n",
        "\n"
      ],
      "execution_count": 41,
      "outputs": []
    },
    {
      "cell_type": "code",
      "metadata": {
        "colab": {
          "base_uri": "https://localhost:8080/",
          "height": 204
        },
        "id": "YfV5B7HU7L0R",
        "outputId": "8d85520d-4637-4e05-9036-9082e62fc567"
      },
      "source": [
        "IPC_EEUU.head()"
      ],
      "execution_count": 42,
      "outputs": [
        {
          "output_type": "execute_result",
          "data": {
            "text/html": [
              "<div>\n",
              "<style scoped>\n",
              "    .dataframe tbody tr th:only-of-type {\n",
              "        vertical-align: middle;\n",
              "    }\n",
              "\n",
              "    .dataframe tbody tr th {\n",
              "        vertical-align: top;\n",
              "    }\n",
              "\n",
              "    .dataframe thead th {\n",
              "        text-align: right;\n",
              "    }\n",
              "</style>\n",
              "<table border=\"1\" class=\"dataframe\">\n",
              "  <thead>\n",
              "    <tr style=\"text-align: right;\">\n",
              "      <th></th>\n",
              "      <th>Date</th>\n",
              "      <th>actual</th>\n",
              "      <th>anterior</th>\n",
              "    </tr>\n",
              "  </thead>\n",
              "  <tbody>\n",
              "    <tr>\n",
              "      <th>0</th>\n",
              "      <td>11.08.2021</td>\n",
              "      <td>0,5%</td>\n",
              "      <td>0,9%</td>\n",
              "    </tr>\n",
              "    <tr>\n",
              "      <th>1</th>\n",
              "      <td>13.07.2021</td>\n",
              "      <td>0,9%</td>\n",
              "      <td>0,6%</td>\n",
              "    </tr>\n",
              "    <tr>\n",
              "      <th>2</th>\n",
              "      <td>10.06.2021</td>\n",
              "      <td>0,6%</td>\n",
              "      <td>0,8%</td>\n",
              "    </tr>\n",
              "    <tr>\n",
              "      <th>3</th>\n",
              "      <td>12.05.2021</td>\n",
              "      <td>0,8%</td>\n",
              "      <td>0,6%</td>\n",
              "    </tr>\n",
              "    <tr>\n",
              "      <th>4</th>\n",
              "      <td>13.04.2021</td>\n",
              "      <td>0,6%</td>\n",
              "      <td>0,4%</td>\n",
              "    </tr>\n",
              "  </tbody>\n",
              "</table>\n",
              "</div>"
            ],
            "text/plain": [
              "         Date actual anterior\n",
              "0  11.08.2021   0,5%     0,9%\n",
              "1  13.07.2021   0,9%     0,6%\n",
              "2  10.06.2021   0,6%     0,8%\n",
              "3  12.05.2021   0,8%     0,6%\n",
              "4  13.04.2021   0,6%     0,4%"
            ]
          },
          "metadata": {},
          "execution_count": 42
        }
      ]
    },
    {
      "cell_type": "markdown",
      "metadata": {
        "id": "8LemRMS5i88A"
      },
      "source": [
        "# Limpieza de datos "
      ]
    },
    {
      "cell_type": "code",
      "metadata": {
        "id": "5yJe7eWhQrmH"
      },
      "source": [
        "IPC_EEUU[['actual', 'anterior']] = IPC_EEUU[['actual','anterior']].replace('[\\%,]', '', regex=True).astype(float) \n",
        "IPC_EEUU[['actual', 'anterior']] = IPC_EEUU[['actual', 'anterior']].fillna(0) \n",
        "\n",
        "IPC_GBP[['actual', 'anterior']] = IPC_GBP[['actual','anterior']].replace('[\\%,]', '', regex=True).astype(float) \n",
        "IPC_GBP[['actual', 'anterior']] = IPC_GBP[['actual', 'anterior']].fillna(0) \n",
        "\n",
        "\n",
        "IPP_EEUU[['actual', 'anterior']] = IPP_EEUU[['actual','anterior']].replace('[\\%,]', '', regex=True).astype(float) \n",
        "IPP_EEUU[['actual', 'anterior']] = IPP_EEUU[['actual', 'anterior']].fillna(0) \n",
        "\n",
        "\n",
        "IPP_GBP[['actual', 'anterior']] = IPP_GBP[['actual','anterior']].replace('[\\%,]', '', regex=True).astype(float) \n",
        "IPP_GBP[['actual', 'anterior']] = IPP_GBP[['actual', 'anterior']].fillna(0) \n",
        "\n",
        "\n",
        "UNEM_EEUU[['actual', 'anterior']] = UNEM_EEUU[['actual','anterior']].replace('[\\%,]', '', regex=True).astype(float) \n",
        "UNEM_EEUU[['actual', 'anterior']] = UNEM_EEUU[['actual', 'anterior']].fillna(0) \n",
        "\n",
        "\n",
        "UNEM_GBP[['actual', 'anterior']] = UNEM_GBP[['actual','anterior']].replace('[\\%,]', '', regex=True).astype(float) \n",
        "UNEM_GBP[['actual', 'anterior']] = UNEM_GBP[['actual', 'anterior']].fillna(0) \n"
      ],
      "execution_count": 43,
      "outputs": []
    },
    {
      "cell_type": "code",
      "metadata": {
        "id": "SuqShSCtkMqo"
      },
      "source": [
        "#CHECK\n",
        "\n",
        "IPC_EEUU,IPC_GBP,IPP_EEUU,IPP_GBP,UNEM_EEUU,UNEM_GBP"
      ],
      "execution_count": null,
      "outputs": []
    },
    {
      "cell_type": "code",
      "metadata": {
        "id": "_o1Qo8NiYNof"
      },
      "source": [
        "IPC_EEUU['actual']=IPC_EEUU['actual']/100\n",
        "IPC_EEUU['anterior']=IPC_EEUU['anterior']/100\n",
        "\n",
        "\n",
        "IPC_GBP['actual']=IPC_GBP['actual']/100\n",
        "IPC_GBP['anterior']=IPC_GBP['anterior']/100\n",
        "\n",
        "\n",
        "IPP_EEUU['actual']=IPP_EEUU['actual']/100\n",
        "IPP_EEUU['anterior']=IPP_EEUU['anterior']/100\n",
        "\n",
        "\n",
        "IPP_GBP['actual']=IPP_GBP['actual']/100\n",
        "IPP_GBP['anterior']=IPP_GBP['anterior']/100\n",
        "\n",
        "\n",
        "UNEM_EEUU['actual']=UNEM_EEUU['actual']/100\n",
        "UNEM_EEUU['anterior']=UNEM_EEUU['anterior']/100\n",
        "\n",
        "\n",
        "UNEM_GBP['actual']=UNEM_GBP['actual']/100\n",
        "UNEM_GBP['anterior']=UNEM_GBP['anterior']/100\n",
        "\n"
      ],
      "execution_count": 44,
      "outputs": []
    },
    {
      "cell_type": "code",
      "metadata": {
        "id": "TQLg3DGnl7JX"
      },
      "source": [
        "#CHECK\n",
        "\n",
        "IPC_EEUU,IPC_GBP,IPP_EEUU,IPP_GBP,UNEM_EEUU,UNEM_GBP"
      ],
      "execution_count": null,
      "outputs": []
    },
    {
      "cell_type": "code",
      "metadata": {
        "colab": {
          "base_uri": "https://localhost:8080/"
        },
        "id": "LO_jrLSqWOLn",
        "outputId": "e46a7645-68c7-4ae9-f2b8-23180b224d16"
      },
      "source": [
        "# PRUEBA ARREGLO FECHAS\n",
        "#IPC_EEUU.reset_index(0).reset_index(drop=True)\n",
        "#PRECIOS['Date'] = pd.to_datetime(pd.Series(PRECIOS[\"Date\"])) \n",
        "PRECIOS.dtypes\n",
        "\n",
        "\n",
        "#IPC_EEUU[['actual', 'anterior']] = IPC_EEUU[['actual', 'anterior']].fillna(0) \n",
        "#IPC_EEUU[['actual', 'anterior']] = IPC_EEUU[['actual','anterior']].replace('[\\%,]', '', regex=True).astype(int) \n",
        "#IPC_EEUU['Date'] = pd.to_datetime(pd.Series(IPC_EEUU[\"Date\"])) \n",
        "#IPC_EEUU['Date'] = IPC_EEUU['Date'].astype(str).astype(int) \n",
        "#IPC_EEUU\n",
        "#IPC_EEUU.astype(str).astype(int)\n",
        "#PRECIOS.dtypes"
      ],
      "execution_count": null,
      "outputs": [
        {
          "output_type": "execute_result",
          "data": {
            "text/plain": [
              "Open     float64\n",
              "High     float64\n",
              "Low      float64\n",
              "Close    float64\n",
              "dtype: object"
            ]
          },
          "metadata": {},
          "execution_count": 15
        }
      ]
    },
    {
      "cell_type": "code",
      "metadata": {
        "id": "JF617YFFmEYE"
      },
      "source": [
        "IPC_EEUU[\"Date\"] = pd.to_datetime(pd.Series(IPC_EEUU[\"Date\"])) \n",
        "IPC_EEUU = IPC_EEUU.set_index('Date')\n",
        "\n",
        "IPC_GBP[\"Date\"] = pd.to_datetime(pd.Series(IPC_GBP[\"Date\"])) \n",
        "IPC_GBP = IPC_GBP.set_index('Date')\n",
        "\n",
        "IPP_EEUU[\"Date\"] = pd.to_datetime(pd.Series(IPP_EEUU[\"Date\"])) \n",
        "IPP_EEUU = IPP_EEUU.set_index('Date')\n",
        "\n",
        "IPP_GBP[\"Date\"] = pd.to_datetime(pd.Series(IPP_GBP[\"Date\"])) \n",
        "IPP_GBP = IPP_GBP.set_index('Date')\n",
        "\n",
        "UNEM_EEUU[\"Date\"] = pd.to_datetime(pd.Series(UNEM_EEUU[\"Date\"])) \n",
        "UNEM_EEUU = UNEM_EEUU.set_index('Date')\n",
        "\n",
        "UNEM_GBP[\"Date\"] = pd.to_datetime(pd.Series(UNEM_GBP[\"Date\"])) \n",
        "UNEM_GBP = UNEM_GBP.set_index('Date')\n",
        "\n",
        "\n",
        "\n",
        "\n"
      ],
      "execution_count": 45,
      "outputs": []
    },
    {
      "cell_type": "code",
      "metadata": {
        "id": "d18nSHJInBak"
      },
      "source": [
        "#CHECK\n",
        "\n",
        "IPC_EEUU,IPC_GBP,IPP_EEUU,IPP_GBP,UNEM_EEUU,UNEM_GBP\n"
      ],
      "execution_count": null,
      "outputs": []
    },
    {
      "cell_type": "markdown",
      "metadata": {
        "id": "ZNAn8fXJnp9W"
      },
      "source": [
        "# MATRIZ\n"
      ]
    },
    {
      "cell_type": "code",
      "metadata": {
        "id": "cLOBxL2DPWNc"
      },
      "source": [
        "#PRECIOS = PRECIOS.reset_index(drop=True)\n",
        "IPC_EEUU.head()\n",
        "IPC_EEUU.to_csv(\"/content/drive/MyDrive/Colab/graphs/salida.csv\")"
      ],
      "execution_count": 80,
      "outputs": []
    },
    {
      "cell_type": "code",
      "metadata": {
        "colab": {
          "base_uri": "https://localhost:8080/",
          "height": 204
        },
        "id": "-3gddJ67W4Qa",
        "outputId": "d3cbfd76-9b6d-437c-d5a2-5f42fda0d793"
      },
      "source": [
        ""
      ],
      "execution_count": null,
      "outputs": [
        {
          "output_type": "execute_result",
          "data": {
            "text/html": [
              "<div>\n",
              "<style scoped>\n",
              "    .dataframe tbody tr th:only-of-type {\n",
              "        vertical-align: middle;\n",
              "    }\n",
              "\n",
              "    .dataframe tbody tr th {\n",
              "        vertical-align: top;\n",
              "    }\n",
              "\n",
              "    .dataframe thead th {\n",
              "        text-align: right;\n",
              "    }\n",
              "</style>\n",
              "<table border=\"1\" class=\"dataframe\">\n",
              "  <thead>\n",
              "    <tr style=\"text-align: right;\">\n",
              "      <th></th>\n",
              "      <th>level_0</th>\n",
              "      <th>index</th>\n",
              "      <th>Date</th>\n",
              "      <th>actual</th>\n",
              "      <th>anterior</th>\n",
              "    </tr>\n",
              "  </thead>\n",
              "  <tbody>\n",
              "    <tr>\n",
              "      <th>0</th>\n",
              "      <td>0</td>\n",
              "      <td>0</td>\n",
              "      <td>2021-11-08</td>\n",
              "      <td>0.05</td>\n",
              "      <td>0.09</td>\n",
              "    </tr>\n",
              "    <tr>\n",
              "      <th>1</th>\n",
              "      <td>1</td>\n",
              "      <td>1</td>\n",
              "      <td>2021-07-13</td>\n",
              "      <td>0.09</td>\n",
              "      <td>0.06</td>\n",
              "    </tr>\n",
              "    <tr>\n",
              "      <th>2</th>\n",
              "      <td>2</td>\n",
              "      <td>2</td>\n",
              "      <td>2021-10-06</td>\n",
              "      <td>0.06</td>\n",
              "      <td>0.08</td>\n",
              "    </tr>\n",
              "    <tr>\n",
              "      <th>3</th>\n",
              "      <td>3</td>\n",
              "      <td>3</td>\n",
              "      <td>2021-12-05</td>\n",
              "      <td>0.08</td>\n",
              "      <td>0.06</td>\n",
              "    </tr>\n",
              "    <tr>\n",
              "      <th>4</th>\n",
              "      <td>4</td>\n",
              "      <td>4</td>\n",
              "      <td>2021-04-13</td>\n",
              "      <td>0.06</td>\n",
              "      <td>0.04</td>\n",
              "    </tr>\n",
              "  </tbody>\n",
              "</table>\n",
              "</div>"
            ],
            "text/plain": [
              "   level_0  index       Date  actual  anterior\n",
              "0        0      0 2021-11-08    0.05      0.09\n",
              "1        1      1 2021-07-13    0.09      0.06\n",
              "2        2      2 2021-10-06    0.06      0.08\n",
              "3        3      3 2021-12-05    0.08      0.06\n",
              "4        4      4 2021-04-13    0.06      0.04"
            ]
          },
          "metadata": {},
          "execution_count": 33
        }
      ]
    },
    {
      "cell_type": "code",
      "metadata": {
        "id": "smfRhU_kpSV9",
        "colab": {
          "base_uri": "https://localhost:8080/",
          "height": 545
        },
        "outputId": "bce8c877-094b-4bd3-d4f6-cc38531eb618"
      },
      "source": [
        "# MERGE\n",
        "matriz_x =  pd.merge(PRECIOS, IPC_EEUU , how='left',on = 'Date') \n",
        "#matriz_x =  pd.merge(matriz_x, IPC_GBP , how='left', on = 'Date')\n",
        "#matriz_x =  pd.merge(matriz_x, IPP_EEUU , how='left', on = 'Date')\n",
        "#matriz_x =  pd.merge(matriz_x, IPP_GBP , how='left', on = 'Date')\n",
        "#matriz_x =  pd.merge(matriz_x, UNEM_EEUU , how='left', on = 'Date')\n",
        "#matriz_x =  pd.merge(matriz_x, UNEM_GBP , how='left', on = 'Date')\n",
        "matriz_x.head(15)\n",
        "#IPC_EEUU,IPC_GBP,IPP_EEUU,IPP_GBP,UNEM_EEUU,UNEM_GBP\n",
        "\n",
        "\n",
        "#matriz_x = pd.merge(matriz_x, matriz_0 , how='left', on = 'Date')\n",
        "#matriz_x = matriz_x.fillna(0)\n",
        "#matriz_x.sort_values('Date')\n",
        "\n",
        "#PRECIOS['actual']=0\n",
        "#PRECIOS['prevision'] = 0\n",
        "#PRECIOS.loc[PRECIOS['Date'].isin(IPC_EEUU['Date']),'actual'] = IPC_EEUU['actual']\n",
        "#IPC_EEUU.loc[date == PRECIOS['Date'],'actual']"
      ],
      "execution_count": 75,
      "outputs": [
        {
          "output_type": "execute_result",
          "data": {
            "text/html": [
              "<div>\n",
              "<style scoped>\n",
              "    .dataframe tbody tr th:only-of-type {\n",
              "        vertical-align: middle;\n",
              "    }\n",
              "\n",
              "    .dataframe tbody tr th {\n",
              "        vertical-align: top;\n",
              "    }\n",
              "\n",
              "    .dataframe thead th {\n",
              "        text-align: right;\n",
              "    }\n",
              "</style>\n",
              "<table border=\"1\" class=\"dataframe\">\n",
              "  <thead>\n",
              "    <tr style=\"text-align: right;\">\n",
              "      <th></th>\n",
              "      <th>Open</th>\n",
              "      <th>High</th>\n",
              "      <th>Low</th>\n",
              "      <th>Close</th>\n",
              "      <th>actual</th>\n",
              "      <th>anterior</th>\n",
              "    </tr>\n",
              "    <tr>\n",
              "      <th>Date</th>\n",
              "      <th></th>\n",
              "      <th></th>\n",
              "      <th></th>\n",
              "      <th></th>\n",
              "      <th></th>\n",
              "      <th></th>\n",
              "    </tr>\n",
              "  </thead>\n",
              "  <tbody>\n",
              "    <tr>\n",
              "      <th>2000-01-03</th>\n",
              "      <td>1.6143</td>\n",
              "      <td>1.6397</td>\n",
              "      <td>1.6143</td>\n",
              "      <td>1.6370</td>\n",
              "      <td>0.4</td>\n",
              "      <td>0.0</td>\n",
              "    </tr>\n",
              "    <tr>\n",
              "      <th>2000-01-04</th>\n",
              "      <td>1.6363</td>\n",
              "      <td>1.6415</td>\n",
              "      <td>1.6315</td>\n",
              "      <td>1.6370</td>\n",
              "      <td>0.6</td>\n",
              "      <td>0.0</td>\n",
              "    </tr>\n",
              "    <tr>\n",
              "      <th>2000-01-05</th>\n",
              "      <td>1.6355</td>\n",
              "      <td>1.6452</td>\n",
              "      <td>1.6354</td>\n",
              "      <td>1.6420</td>\n",
              "      <td>-0.1</td>\n",
              "      <td>0.0</td>\n",
              "    </tr>\n",
              "    <tr>\n",
              "      <th>2000-01-06</th>\n",
              "      <td>1.6422</td>\n",
              "      <td>1.6513</td>\n",
              "      <td>1.6413</td>\n",
              "      <td>1.6468</td>\n",
              "      <td>0.2</td>\n",
              "      <td>0.0</td>\n",
              "    </tr>\n",
              "    <tr>\n",
              "      <th>2000-01-07</th>\n",
              "      <td>1.6469</td>\n",
              "      <td>1.6500</td>\n",
              "      <td>1.6362</td>\n",
              "      <td>1.6387</td>\n",
              "      <td>0.6</td>\n",
              "      <td>0.0</td>\n",
              "    </tr>\n",
              "    <tr>\n",
              "      <th>2000-01-10</th>\n",
              "      <td>1.6390</td>\n",
              "      <td>1.6397</td>\n",
              "      <td>1.6327</td>\n",
              "      <td>1.6370</td>\n",
              "      <td>0.5</td>\n",
              "      <td>0.0</td>\n",
              "    </tr>\n",
              "    <tr>\n",
              "      <th>2000-01-11</th>\n",
              "      <td>1.6370</td>\n",
              "      <td>1.6499</td>\n",
              "      <td>1.6360</td>\n",
              "      <td>1.6485</td>\n",
              "      <td>0.2</td>\n",
              "      <td>0.0</td>\n",
              "    </tr>\n",
              "    <tr>\n",
              "      <th>2000-01-12</th>\n",
              "      <td>1.6468</td>\n",
              "      <td>1.6514</td>\n",
              "      <td>1.6452</td>\n",
              "      <td>1.6478</td>\n",
              "      <td>0.2</td>\n",
              "      <td>0.0</td>\n",
              "    </tr>\n",
              "    <tr>\n",
              "      <th>2000-01-13</th>\n",
              "      <td>1.6469</td>\n",
              "      <td>1.6503</td>\n",
              "      <td>1.6411</td>\n",
              "      <td>1.6467</td>\n",
              "      <td>NaN</td>\n",
              "      <td>NaN</td>\n",
              "    </tr>\n",
              "    <tr>\n",
              "      <th>2000-01-14</th>\n",
              "      <td>1.6480</td>\n",
              "      <td>1.6480</td>\n",
              "      <td>1.6329</td>\n",
              "      <td>1.6340</td>\n",
              "      <td>NaN</td>\n",
              "      <td>NaN</td>\n",
              "    </tr>\n",
              "    <tr>\n",
              "      <th>2000-01-17</th>\n",
              "      <td>1.6350</td>\n",
              "      <td>1.6390</td>\n",
              "      <td>1.6296</td>\n",
              "      <td>1.6332</td>\n",
              "      <td>NaN</td>\n",
              "      <td>NaN</td>\n",
              "    </tr>\n",
              "    <tr>\n",
              "      <th>2000-01-18</th>\n",
              "      <td>1.6336</td>\n",
              "      <td>1.6391</td>\n",
              "      <td>1.6317</td>\n",
              "      <td>1.6370</td>\n",
              "      <td>NaN</td>\n",
              "      <td>NaN</td>\n",
              "    </tr>\n",
              "    <tr>\n",
              "      <th>2000-01-19</th>\n",
              "      <td>1.6377</td>\n",
              "      <td>1.6454</td>\n",
              "      <td>1.6362</td>\n",
              "      <td>1.6440</td>\n",
              "      <td>NaN</td>\n",
              "      <td>NaN</td>\n",
              "    </tr>\n",
              "    <tr>\n",
              "      <th>2000-01-20</th>\n",
              "      <td>1.6450</td>\n",
              "      <td>1.6573</td>\n",
              "      <td>1.6418</td>\n",
              "      <td>1.6545</td>\n",
              "      <td>NaN</td>\n",
              "      <td>NaN</td>\n",
              "    </tr>\n",
              "    <tr>\n",
              "      <th>2000-01-21</th>\n",
              "      <td>1.6545</td>\n",
              "      <td>1.6583</td>\n",
              "      <td>1.6480</td>\n",
              "      <td>1.6494</td>\n",
              "      <td>NaN</td>\n",
              "      <td>NaN</td>\n",
              "    </tr>\n",
              "  </tbody>\n",
              "</table>\n",
              "</div>"
            ],
            "text/plain": [
              "              Open    High     Low   Close  actual  anterior\n",
              "Date                                                        \n",
              "2000-01-03  1.6143  1.6397  1.6143  1.6370     0.4       0.0\n",
              "2000-01-04  1.6363  1.6415  1.6315  1.6370     0.6       0.0\n",
              "2000-01-05  1.6355  1.6452  1.6354  1.6420    -0.1       0.0\n",
              "2000-01-06  1.6422  1.6513  1.6413  1.6468     0.2       0.0\n",
              "2000-01-07  1.6469  1.6500  1.6362  1.6387     0.6       0.0\n",
              "2000-01-10  1.6390  1.6397  1.6327  1.6370     0.5       0.0\n",
              "2000-01-11  1.6370  1.6499  1.6360  1.6485     0.2       0.0\n",
              "2000-01-12  1.6468  1.6514  1.6452  1.6478     0.2       0.0\n",
              "2000-01-13  1.6469  1.6503  1.6411  1.6467     NaN       NaN\n",
              "2000-01-14  1.6480  1.6480  1.6329  1.6340     NaN       NaN\n",
              "2000-01-17  1.6350  1.6390  1.6296  1.6332     NaN       NaN\n",
              "2000-01-18  1.6336  1.6391  1.6317  1.6370     NaN       NaN\n",
              "2000-01-19  1.6377  1.6454  1.6362  1.6440     NaN       NaN\n",
              "2000-01-20  1.6450  1.6573  1.6418  1.6545     NaN       NaN\n",
              "2000-01-21  1.6545  1.6583  1.6480  1.6494     NaN       NaN"
            ]
          },
          "metadata": {},
          "execution_count": 75
        }
      ]
    },
    {
      "cell_type": "code",
      "metadata": {
        "colab": {
          "base_uri": "https://localhost:8080/"
        },
        "id": "KZpljk7Olxet",
        "outputId": "969a34ba-2e8c-42bd-b326-669afd9ff196"
      },
      "source": [
        "df = matriz_x.reset_index(0).reset_index(drop=True)\n",
        "\n",
        "filtro = (df['Date'] == \"2020-04-13\")\n",
        "after_start_date = df.loc[filtro]\n",
        "print(after_start_date)\n",
        "#IPC_EEUU.head(15)\n",
        "#IPC_EEUU.loc[IPC_EEUU['Date'].isin(PRECIOS['Date']), 'actual']\n"
      ],
      "execution_count": 72,
      "outputs": [
        {
          "output_type": "stream",
          "name": "stdout",
          "text": [
            "           Date    Open    High    Low   Close  actual  anterior\n",
            "5288 2020-04-13  1.2464  1.2537  1.245  1.2507     NaN       NaN\n"
          ]
        }
      ]
    },
    {
      "cell_type": "code",
      "metadata": {
        "colab": {
          "base_uri": "https://localhost:8080/"
        },
        "id": "y14FkevGucgP",
        "outputId": "994f4537-8feb-4dcd-da88-e1647e76fdb2"
      },
      "source": [
        "IPC_EEUU['Date'].values[0]"
      ],
      "execution_count": null,
      "outputs": [
        {
          "output_type": "execute_result",
          "data": {
            "text/plain": [
              "numpy.datetime64('2021-11-08T00:00:00.000000000')"
            ]
          },
          "metadata": {},
          "execution_count": 28
        }
      ]
    },
    {
      "cell_type": "markdown",
      "metadata": {
        "id": "96DikENprtJs"
      },
      "source": [
        ""
      ]
    },
    {
      "cell_type": "code",
      "metadata": {
        "colab": {
          "base_uri": "https://localhost:8080/",
          "height": 235
        },
        "id": "7EPTwBCgjgmB",
        "outputId": "87f7c088-18a2-448e-a6af-0b7c4955ddab"
      },
      "source": [
        "PRECIOS.tail()"
      ],
      "execution_count": 48,
      "outputs": [
        {
          "output_type": "execute_result",
          "data": {
            "text/html": [
              "<div>\n",
              "<style scoped>\n",
              "    .dataframe tbody tr th:only-of-type {\n",
              "        vertical-align: middle;\n",
              "    }\n",
              "\n",
              "    .dataframe tbody tr th {\n",
              "        vertical-align: top;\n",
              "    }\n",
              "\n",
              "    .dataframe thead th {\n",
              "        text-align: right;\n",
              "    }\n",
              "</style>\n",
              "<table border=\"1\" class=\"dataframe\">\n",
              "  <thead>\n",
              "    <tr style=\"text-align: right;\">\n",
              "      <th></th>\n",
              "      <th>Open</th>\n",
              "      <th>High</th>\n",
              "      <th>Low</th>\n",
              "      <th>Close</th>\n",
              "    </tr>\n",
              "    <tr>\n",
              "      <th>Date</th>\n",
              "      <th></th>\n",
              "      <th></th>\n",
              "      <th></th>\n",
              "      <th></th>\n",
              "    </tr>\n",
              "  </thead>\n",
              "  <tbody>\n",
              "    <tr>\n",
              "      <th>2021-10-12</th>\n",
              "      <td>1.3599</td>\n",
              "      <td>1.3638</td>\n",
              "      <td>1.3569</td>\n",
              "      <td>1.3585</td>\n",
              "    </tr>\n",
              "    <tr>\n",
              "      <th>2021-10-13</th>\n",
              "      <td>1.3588</td>\n",
              "      <td>1.3665</td>\n",
              "      <td>1.3576</td>\n",
              "      <td>1.3659</td>\n",
              "    </tr>\n",
              "    <tr>\n",
              "      <th>2021-10-14</th>\n",
              "      <td>1.3657</td>\n",
              "      <td>1.3736</td>\n",
              "      <td>1.3654</td>\n",
              "      <td>1.3673</td>\n",
              "    </tr>\n",
              "    <tr>\n",
              "      <th>2021-10-15</th>\n",
              "      <td>1.3673</td>\n",
              "      <td>1.3774</td>\n",
              "      <td>1.3667</td>\n",
              "      <td>1.3749</td>\n",
              "    </tr>\n",
              "    <tr>\n",
              "      <th>2021-10-18</th>\n",
              "      <td>1.3751</td>\n",
              "      <td>1.3766</td>\n",
              "      <td>1.3708</td>\n",
              "      <td>1.3725</td>\n",
              "    </tr>\n",
              "  </tbody>\n",
              "</table>\n",
              "</div>"
            ],
            "text/plain": [
              "              Open    High     Low   Close\n",
              "Date                                      \n",
              "2021-10-12  1.3599  1.3638  1.3569  1.3585\n",
              "2021-10-13  1.3588  1.3665  1.3576  1.3659\n",
              "2021-10-14  1.3657  1.3736  1.3654  1.3673\n",
              "2021-10-15  1.3673  1.3774  1.3667  1.3749\n",
              "2021-10-18  1.3751  1.3766  1.3708  1.3725"
            ]
          },
          "metadata": {},
          "execution_count": 48
        }
      ]
    },
    {
      "cell_type": "code",
      "metadata": {
        "colab": {
          "base_uri": "https://localhost:8080/",
          "height": 235
        },
        "id": "D9bxqg_OjifK",
        "outputId": "6d98ddb4-c97d-49eb-fd22-5e2f158e3d3c"
      },
      "source": [
        "PRECIOS.head()"
      ],
      "execution_count": 49,
      "outputs": [
        {
          "output_type": "execute_result",
          "data": {
            "text/html": [
              "<div>\n",
              "<style scoped>\n",
              "    .dataframe tbody tr th:only-of-type {\n",
              "        vertical-align: middle;\n",
              "    }\n",
              "\n",
              "    .dataframe tbody tr th {\n",
              "        vertical-align: top;\n",
              "    }\n",
              "\n",
              "    .dataframe thead th {\n",
              "        text-align: right;\n",
              "    }\n",
              "</style>\n",
              "<table border=\"1\" class=\"dataframe\">\n",
              "  <thead>\n",
              "    <tr style=\"text-align: right;\">\n",
              "      <th></th>\n",
              "      <th>Open</th>\n",
              "      <th>High</th>\n",
              "      <th>Low</th>\n",
              "      <th>Close</th>\n",
              "    </tr>\n",
              "    <tr>\n",
              "      <th>Date</th>\n",
              "      <th></th>\n",
              "      <th></th>\n",
              "      <th></th>\n",
              "      <th></th>\n",
              "    </tr>\n",
              "  </thead>\n",
              "  <tbody>\n",
              "    <tr>\n",
              "      <th>2000-01-03</th>\n",
              "      <td>1.6143</td>\n",
              "      <td>1.6397</td>\n",
              "      <td>1.6143</td>\n",
              "      <td>1.6370</td>\n",
              "    </tr>\n",
              "    <tr>\n",
              "      <th>2000-01-04</th>\n",
              "      <td>1.6363</td>\n",
              "      <td>1.6415</td>\n",
              "      <td>1.6315</td>\n",
              "      <td>1.6370</td>\n",
              "    </tr>\n",
              "    <tr>\n",
              "      <th>2000-01-05</th>\n",
              "      <td>1.6355</td>\n",
              "      <td>1.6452</td>\n",
              "      <td>1.6354</td>\n",
              "      <td>1.6420</td>\n",
              "    </tr>\n",
              "    <tr>\n",
              "      <th>2000-01-06</th>\n",
              "      <td>1.6422</td>\n",
              "      <td>1.6513</td>\n",
              "      <td>1.6413</td>\n",
              "      <td>1.6468</td>\n",
              "    </tr>\n",
              "    <tr>\n",
              "      <th>2000-01-07</th>\n",
              "      <td>1.6469</td>\n",
              "      <td>1.6500</td>\n",
              "      <td>1.6362</td>\n",
              "      <td>1.6387</td>\n",
              "    </tr>\n",
              "  </tbody>\n",
              "</table>\n",
              "</div>"
            ],
            "text/plain": [
              "              Open    High     Low   Close\n",
              "Date                                      \n",
              "2000-01-03  1.6143  1.6397  1.6143  1.6370\n",
              "2000-01-04  1.6363  1.6415  1.6315  1.6370\n",
              "2000-01-05  1.6355  1.6452  1.6354  1.6420\n",
              "2000-01-06  1.6422  1.6513  1.6413  1.6468\n",
              "2000-01-07  1.6469  1.6500  1.6362  1.6387"
            ]
          },
          "metadata": {},
          "execution_count": 49
        }
      ]
    },
    {
      "cell_type": "code",
      "metadata": {
        "id": "bOGYQqHMrufx"
      },
      "source": [
        ""
      ],
      "execution_count": null,
      "outputs": []
    },
    {
      "cell_type": "code",
      "metadata": {
        "colab": {
          "base_uri": "https://localhost:8080/",
          "height": 236
        },
        "id": "SkwGrXGanwGy",
        "outputId": "0d08addb-fd86-4e61-bac5-a20e9f06e906"
      },
      "source": [
        "PRECIOS.head()\n",
        "\n",
        "#matriz_x =  pd.merge(PRECIOS, IPC_EEUU , how='left', on = 'Date') \n",
        "\n",
        "\n",
        "# IPC_EEUU,IPC_GBP,IPP_EEUU,IPP_GBP,UNEM_EEUU,UNEM_GBP\n",
        "#matriz_x"
      ],
      "execution_count": null,
      "outputs": [
        {
          "output_type": "execute_result",
          "data": {
            "text/html": [
              "<div>\n",
              "<style scoped>\n",
              "    .dataframe tbody tr th:only-of-type {\n",
              "        vertical-align: middle;\n",
              "    }\n",
              "\n",
              "    .dataframe tbody tr th {\n",
              "        vertical-align: top;\n",
              "    }\n",
              "\n",
              "    .dataframe thead th {\n",
              "        text-align: right;\n",
              "    }\n",
              "</style>\n",
              "<table border=\"1\" class=\"dataframe\">\n",
              "  <thead>\n",
              "    <tr style=\"text-align: right;\">\n",
              "      <th></th>\n",
              "      <th>Open</th>\n",
              "      <th>High</th>\n",
              "      <th>Low</th>\n",
              "      <th>Close</th>\n",
              "    </tr>\n",
              "    <tr>\n",
              "      <th>Date</th>\n",
              "      <th></th>\n",
              "      <th></th>\n",
              "      <th></th>\n",
              "      <th></th>\n",
              "    </tr>\n",
              "  </thead>\n",
              "  <tbody>\n",
              "    <tr>\n",
              "      <th>2000-01-03</th>\n",
              "      <td>1.6143</td>\n",
              "      <td>1.6397</td>\n",
              "      <td>1.6143</td>\n",
              "      <td>1.6370</td>\n",
              "    </tr>\n",
              "    <tr>\n",
              "      <th>2000-01-04</th>\n",
              "      <td>1.6363</td>\n",
              "      <td>1.6415</td>\n",
              "      <td>1.6315</td>\n",
              "      <td>1.6370</td>\n",
              "    </tr>\n",
              "    <tr>\n",
              "      <th>2000-01-05</th>\n",
              "      <td>1.6355</td>\n",
              "      <td>1.6452</td>\n",
              "      <td>1.6354</td>\n",
              "      <td>1.6420</td>\n",
              "    </tr>\n",
              "    <tr>\n",
              "      <th>2000-01-06</th>\n",
              "      <td>1.6422</td>\n",
              "      <td>1.6513</td>\n",
              "      <td>1.6413</td>\n",
              "      <td>1.6468</td>\n",
              "    </tr>\n",
              "    <tr>\n",
              "      <th>2000-01-07</th>\n",
              "      <td>1.6469</td>\n",
              "      <td>1.6500</td>\n",
              "      <td>1.6362</td>\n",
              "      <td>1.6387</td>\n",
              "    </tr>\n",
              "  </tbody>\n",
              "</table>\n",
              "</div>"
            ],
            "text/plain": [
              "              Open    High     Low   Close\n",
              "Date                                      \n",
              "2000-01-03  1.6143  1.6397  1.6143  1.6370\n",
              "2000-01-04  1.6363  1.6415  1.6315  1.6370\n",
              "2000-01-05  1.6355  1.6452  1.6354  1.6420\n",
              "2000-01-06  1.6422  1.6513  1.6413  1.6468\n",
              "2000-01-07  1.6469  1.6500  1.6362  1.6387"
            ]
          },
          "metadata": {},
          "execution_count": 110
        }
      ]
    }
  ]
}
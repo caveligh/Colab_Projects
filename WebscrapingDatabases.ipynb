{
  "nbformat": 4,
  "nbformat_minor": 0,
  "metadata": {
    "colab": {
      "name": "WebscrapingDatabases.ipynb",
      "provenance": [],
      "authorship_tag": "ABX9TyOrhbeuuchgSG+5Qj9n1ILY",
      "include_colab_link": true
    },
    "kernelspec": {
      "name": "python3",
      "display_name": "Python 3"
    },
    "language_info": {
      "name": "python"
    }
  },
  "cells": [
    {
      "cell_type": "markdown",
      "metadata": {
        "id": "view-in-github",
        "colab_type": "text"
      },
      "source": [
        "<a href=\"https://colab.research.google.com/github/caveligh/Colab_Projects/blob/main/WebscrapingDatabases.ipynb\" target=\"_parent\"><img src=\"https://colab.research.google.com/assets/colab-badge.svg\" alt=\"Open In Colab\"/></a>"
      ]
    },
    {
      "cell_type": "code",
      "metadata": {
        "colab": {
          "base_uri": "https://localhost:8080/"
        },
        "id": "vZDFXFo2afZJ",
        "outputId": "6029c9ed-56f2-414e-871d-31c842c63625"
      },
      "source": [
        "#!pip install mechanicalsoup\n",
        "import mechanicalsoup\n",
        "import pandas as pd\n",
        "import sqlite3\n"
      ],
      "execution_count": 2,
      "outputs": [
        {
          "output_type": "stream",
          "name": "stdout",
          "text": [
            "Collecting mechanicalsoup\n",
            "  Downloading MechanicalSoup-1.1.0-py3-none-any.whl (19 kB)\n",
            "Requirement already satisfied: requests>=2.22.0 in /usr/local/lib/python3.7/dist-packages (from mechanicalsoup) (2.23.0)\n",
            "Collecting beautifulsoup4>=4.7\n",
            "  Downloading beautifulsoup4-4.10.0-py3-none-any.whl (97 kB)\n",
            "\u001b[K     |████████████████████████████████| 97 kB 3.5 MB/s \n",
            "\u001b[?25hRequirement already satisfied: lxml in /usr/local/lib/python3.7/dist-packages (from mechanicalsoup) (4.2.6)\n",
            "Collecting soupsieve>1.2\n",
            "  Downloading soupsieve-2.3.1-py3-none-any.whl (37 kB)\n",
            "Requirement already satisfied: urllib3!=1.25.0,!=1.25.1,<1.26,>=1.21.1 in /usr/local/lib/python3.7/dist-packages (from requests>=2.22.0->mechanicalsoup) (1.24.3)\n",
            "Requirement already satisfied: chardet<4,>=3.0.2 in /usr/local/lib/python3.7/dist-packages (from requests>=2.22.0->mechanicalsoup) (3.0.4)\n",
            "Requirement already satisfied: certifi>=2017.4.17 in /usr/local/lib/python3.7/dist-packages (from requests>=2.22.0->mechanicalsoup) (2021.10.8)\n",
            "Requirement already satisfied: idna<3,>=2.5 in /usr/local/lib/python3.7/dist-packages (from requests>=2.22.0->mechanicalsoup) (2.10)\n",
            "Installing collected packages: soupsieve, beautifulsoup4, mechanicalsoup\n",
            "  Attempting uninstall: beautifulsoup4\n",
            "    Found existing installation: beautifulsoup4 4.6.3\n",
            "    Uninstalling beautifulsoup4-4.6.3:\n",
            "      Successfully uninstalled beautifulsoup4-4.6.3\n",
            "Successfully installed beautifulsoup4-4.10.0 mechanicalsoup-1.1.0 soupsieve-2.3.1\n"
          ]
        }
      ]
    },
    {
      "cell_type": "code",
      "metadata": {
        "colab": {
          "base_uri": "https://localhost:8080/"
        },
        "id": "Sg_NZ2-zallz",
        "outputId": "a6c8a6c2-719d-4589-9680-7916e3c7b71a"
      },
      "source": [
        "# create browser object & open URL\n",
        "browser = mechanicalsoup.StatefulBrowser()\n",
        "browser.open(\"https://en.wikipedia.org/wiki/Comparison_of_Linux_distributions\")"
      ],
      "execution_count": 3,
      "outputs": [
        {
          "output_type": "execute_result",
          "data": {
            "text/plain": [
              "<Response [200]>"
            ]
          },
          "metadata": {},
          "execution_count": 3
        }
      ]
    },
    {
      "cell_type": "code",
      "metadata": {
        "id": "Kt-jiR6IarCY"
      },
      "source": [
        "# extract all table headers (entire \"Distribution\" column)\n",
        "th = browser.page.find_all(\"th\", attrs={\"class\": \"table-rh\"})\n",
        "# tidy up and slice off non-table elements \n",
        "distribution = [value.text.replace(\"\\n\", \"\") for value in th]\n",
        "distribution = distribution[:95]"
      ],
      "execution_count": 4,
      "outputs": []
    },
    {
      "cell_type": "code",
      "metadata": {
        "id": "nRfYChXCaxEJ"
      },
      "source": [
        "#distribution"
      ],
      "execution_count": 28,
      "outputs": []
    },
    {
      "cell_type": "code",
      "metadata": {
        "id": "_xiTu6PudSTg"
      },
      "source": [
        "# extract table data (the rest of the table)\n",
        "td = browser.page.find_all(\"td\")"
      ],
      "execution_count": 6,
      "outputs": []
    },
    {
      "cell_type": "code",
      "metadata": {
        "id": "R1NeK6XUdWjw"
      },
      "source": [
        "#td"
      ],
      "execution_count": 29,
      "outputs": []
    },
    {
      "cell_type": "code",
      "metadata": {
        "id": "zEdYwuqdd3Cy"
      },
      "source": [
        "# tidy up and slice off non-table elements\n",
        "columns = [value.text.replace(\"\\n\", \"\") for value in td]\n",
        "columns = columns[6:1051]"
      ],
      "execution_count": 8,
      "outputs": []
    },
    {
      "cell_type": "code",
      "metadata": {
        "id": "FonCD_JzeBtY"
      },
      "source": [
        "column_names = [\"Founder\", \n",
        "                \"Maintainer\", \n",
        "                \"Initial_Release_Year\", \n",
        "                \"Current_Stable_Version\", \n",
        "                \"Security_Updates\", \n",
        "                \"Release_Date\", \n",
        "                \"System_Distribution_Commitment\", \n",
        "                \"Forked_From\", \n",
        "                \"Target_Audience\", \n",
        "                \"Cost\", \n",
        "                \"Status\"]"
      ],
      "execution_count": 10,
      "outputs": []
    },
    {
      "cell_type": "code",
      "metadata": {
        "id": "RRCXHN1XeVOw"
      },
      "source": [
        "dictionary = {\"Distribution\": distribution}"
      ],
      "execution_count": 11,
      "outputs": []
    },
    {
      "cell_type": "code",
      "metadata": {
        "id": "vyPe6ayheZQd"
      },
      "source": [
        "# insert column names and their data into a dictionary\n",
        "for idx, key in enumerate(column_names):\n",
        "    dictionary[key] = columns[idx:][::11]"
      ],
      "execution_count": 12,
      "outputs": []
    },
    {
      "cell_type": "code",
      "metadata": {
        "id": "1e_sUitnecrx"
      },
      "source": [
        "# convert dictionary to data frame\n",
        "df = pd.DataFrame(data = dictionary)"
      ],
      "execution_count": 17,
      "outputs": []
    },
    {
      "cell_type": "code",
      "metadata": {
        "id": "VtmmMBONe6e6"
      },
      "source": [
        "# create new database and cursor\n",
        "connection = sqlite3.connect(\"linux_distro.db\")\n",
        "cursor = connection.cursor()"
      ],
      "execution_count": 23,
      "outputs": []
    },
    {
      "cell_type": "code",
      "metadata": {
        "id": "ShYEOc8We6hy"
      },
      "source": [
        "# create database table and insert all data frame rows\n",
        "cursor.execute(\"create table IF NOT EXISTS linux (Distribution, \" + \",\".join(column_names)+ \")\")\n",
        "for i in range(len(df)):\n",
        "    cursor.execute(\"insert into linux values (?,?,?,?,?,?,?,?,?,?,?,?)\", df.iloc[i])"
      ],
      "execution_count": 27,
      "outputs": []
    },
    {
      "cell_type": "code",
      "metadata": {
        "colab": {
          "base_uri": "https://localhost:8080/"
        },
        "id": "qVzs8uL5h-IF",
        "outputId": "e77225dc-9130-4a46-e59d-6c62e68b8e27"
      },
      "source": [
        "cursor.execute(\"select * from linux where Initial_Release_Year=:c\", {\"c\": \"2008\"})\n",
        "for row in cursor:\n",
        "    print(row)"
      ],
      "execution_count": 26,
      "outputs": [
        {
          "output_type": "stream",
          "name": "stdout",
          "text": [
            "('CrunchBang Linux', 'Philip Newborough', 'Philip Newborough', '2008', '11[13]', '?', '2013-05-06', 'X', 'Debian', 'desktop', 'None', 'Inactive')\n",
            "('Kodibuntu', 'The XBMC Project', 'Team Kodi', '2008', '?', '?', '?', 'X', 'Debian, Ubuntu', 'multimedia', 'None', 'Inactive')\n",
            "('Musix GNU+Linux', 'Musix team', 'Musix team', '2008', '3.0.1', '?', '2014-03-13', '100% Free: GNU FSDG[6]', 'Debian', 'multimedia', 'None', 'Inactive')\n",
            "('SliTaz GNU/Linux', 'Christophe Lincoln', 'dev team', '2008', 'Rolling', 'Rolling', '2017-12-03', 'X', 'Independent', 'portable', 'None', 'Active')\n",
            "('TurnKey GNU/Linux', 'Alon Swartz, Liraz Siri', 'TurnKey GNU/Linux Team', '2008', '16.0 Release #12[73]', 'Debian packages as per Debian; TurnKey packages for life of current major version (plus backports per request)', '2020-12-22', 'Debian Social Contract and DFSG', 'Debian', 'server based software appliance library aiming to balance security and ease of use', 'None', 'Active')\n",
            "('Void Linux', 'Juan Romero Pardines', 'Juan RP and contributors', '2008', 'Rolling', 'Rolling', '2019-11-09', 'X', 'Independent, partially inspired by FreeBSD/NetBSD', 'general', 'None', 'Active')\n"
          ]
        }
      ]
    },
    {
      "cell_type": "code",
      "metadata": {
        "id": "4HQIAiiFfCb3"
      },
      "source": [
        "# PERMANENTLY save inserted data in \"linux_distro.db\"\n",
        "connection.commit()"
      ],
      "execution_count": 25,
      "outputs": []
    },
    {
      "cell_type": "code",
      "metadata": {
        "id": "Eohm4c1wfJTJ"
      },
      "source": [
        "connection.close()"
      ],
      "execution_count": 22,
      "outputs": []
    }
  ]
}
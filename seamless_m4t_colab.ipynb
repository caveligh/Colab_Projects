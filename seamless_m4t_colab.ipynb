{
  "cells": [
    {
      "cell_type": "markdown",
      "metadata": {
        "id": "view-in-github",
        "colab_type": "text"
      },
      "source": [
        "<a href=\"https://colab.research.google.com/github/caveligh/Colab_Projects/blob/main/seamless_m4t_colab.ipynb\" target=\"_parent\"><img src=\"https://colab.research.google.com/assets/colab-badge.svg\" alt=\"Open In Colab\"/></a>"
      ]
    },
    {
      "cell_type": "code",
      "execution_count": 1,
      "metadata": {
        "id": "VjYy0F2gZIPR",
        "colab": {
          "base_uri": "https://localhost:8080/"
        },
        "outputId": "8e40bb80-fbef-46f7-b37c-43c8cbc4fdb2"
      },
      "outputs": [
        {
          "output_type": "stream",
          "name": "stdout",
          "text": [
            "/content\n",
            "\u001b[2K     \u001b[90m━━━━━━━━━━━━━━━━━━━━━━━━━━━━━━━━━━━━━━━\u001b[0m \u001b[32m183.4/183.4 kB\u001b[0m \u001b[31m2.8 MB/s\u001b[0m eta \u001b[36m0:00:00\u001b[0m\n",
            "\u001b[2K     \u001b[90m━━━━━━━━━━━━━━━━━━━━━━━━━━━━━━━━━━━━━━━━\u001b[0m \u001b[32m2.2/2.2 MB\u001b[0m \u001b[31m53.8 MB/s\u001b[0m eta \u001b[36m0:00:00\u001b[0m\n",
            "\u001b[2K     \u001b[90m━━━━━━━━━━━━━━━━━━━━━━━━━━━━━━━━━━━━━━━\u001b[0m \u001b[32m118.9/118.9 kB\u001b[0m \u001b[31m5.0 MB/s\u001b[0m eta \u001b[36m0:00:00\u001b[0m\n",
            "\u001b[2K     \u001b[90m━━━━━━━━━━━━━━━━━━━━━━━━━━━━━━━━━━━━━━\u001b[0m \u001b[32m158.4/158.4 kB\u001b[0m \u001b[31m14.7 MB/s\u001b[0m eta \u001b[36m0:00:00\u001b[0m\n",
            "\u001b[2K     \u001b[90m━━━━━━━━━━━━━━━━━━━━━━━━━━━━━━━━━━━━━━━━\u001b[0m \u001b[32m4.0/4.0 MB\u001b[0m \u001b[31m80.3 MB/s\u001b[0m eta \u001b[36m0:00:00\u001b[0m\n",
            "\u001b[2K     \u001b[90m━━━━━━━━━━━━━━━━━━━━━━━━━━━━━━━━━━━━━━━━\u001b[0m \u001b[32m2.2/2.2 MB\u001b[0m \u001b[31m55.7 MB/s\u001b[0m eta \u001b[36m0:00:00\u001b[0m\n",
            "\u001b[2K     \u001b[90m━━━━━━━━━━━━━━━━━━━━━━━━━━━━━━━━━━━━━━━\u001b[0m \u001b[32m111.0/111.0 kB\u001b[0m \u001b[31m7.7 MB/s\u001b[0m eta \u001b[36m0:00:00\u001b[0m\n",
            "\u001b[2K     \u001b[90m━━━━━━━━━━━━━━━━━━━━━━━━━━━━━━━━━━━━━━━\u001b[0m \u001b[32m202.8/202.8 kB\u001b[0m \u001b[31m2.7 MB/s\u001b[0m eta \u001b[36m0:00:00\u001b[0m\n",
            "\u001b[2K     \u001b[90m━━━━━━━━━━━━━━━━━━━━━━━━━━━━━━━━━━━━━━\u001b[0m \u001b[32m519.3/519.3 kB\u001b[0m \u001b[31m25.0 MB/s\u001b[0m eta \u001b[36m0:00:00\u001b[0m\n",
            "\u001b[2K     \u001b[90m━━━━━━━━━━━━━━━━━━━━━━━━━━━━━━━━━━━━━━━━\u001b[0m \u001b[32m20.0/20.0 MB\u001b[0m \u001b[31m35.3 MB/s\u001b[0m eta \u001b[36m0:00:00\u001b[0m\n",
            "\u001b[2K     \u001b[90m━━━━━━━━━━━━━━━━━━━━━━━━━━━━━━━━━━━━━━━━\u001b[0m \u001b[32m65.8/65.8 kB\u001b[0m \u001b[31m7.8 MB/s\u001b[0m eta \u001b[36m0:00:00\u001b[0m\n",
            "\u001b[?25h  Preparing metadata (setup.py) ... \u001b[?25l\u001b[?25hdone\n",
            "\u001b[2K     \u001b[90m━━━━━━━━━━━━━━━━━━━━━━━━━━━━━━━━━━━━━━\u001b[0m \u001b[32m298.2/298.2 kB\u001b[0m \u001b[31m27.1 MB/s\u001b[0m eta \u001b[36m0:00:00\u001b[0m\n",
            "\u001b[2K     \u001b[90m━━━━━━━━━━━━━━━━━━━━━━━━━━━━━━━━━━━━━━━━\u001b[0m \u001b[32m75.4/75.4 kB\u001b[0m \u001b[31m8.9 MB/s\u001b[0m eta \u001b[36m0:00:00\u001b[0m\n",
            "\u001b[2K     \u001b[90m━━━━━━━━━━━━━━━━━━━━━━━━━━━━━━━━━━━━━━\u001b[0m \u001b[32m268.8/268.8 kB\u001b[0m \u001b[31m27.6 MB/s\u001b[0m eta \u001b[36m0:00:00\u001b[0m\n",
            "\u001b[2K     \u001b[90m━━━━━━━━━━━━━━━━━━━━━━━━━━━━━━━━━━━━━━━━\u001b[0m \u001b[32m50.5/50.5 kB\u001b[0m \u001b[31m5.7 MB/s\u001b[0m eta \u001b[36m0:00:00\u001b[0m\n",
            "\u001b[2K     \u001b[90m━━━━━━━━━━━━━━━━━━━━━━━━━━━━━━━━━━━━━━\u001b[0m \u001b[32m139.9/139.9 kB\u001b[0m \u001b[31m15.4 MB/s\u001b[0m eta \u001b[36m0:00:00\u001b[0m\n",
            "\u001b[2K     \u001b[90m━━━━━━━━━━━━━━━━━━━━━━━━━━━━━━━━━━━━━━━━\u001b[0m \u001b[32m45.7/45.7 kB\u001b[0m \u001b[31m5.6 MB/s\u001b[0m eta \u001b[36m0:00:00\u001b[0m\n",
            "\u001b[2K     \u001b[90m━━━━━━━━━━━━━━━━━━━━━━━━━━━━━━━━━━━━━━━━\u001b[0m \u001b[32m59.5/59.5 kB\u001b[0m \u001b[31m7.4 MB/s\u001b[0m eta \u001b[36m0:00:00\u001b[0m\n",
            "\u001b[2K     \u001b[90m━━━━━━━━━━━━━━━━━━━━━━━━━━━━━━━━━━━━━━\u001b[0m \u001b[32m129.9/129.9 kB\u001b[0m \u001b[31m14.9 MB/s\u001b[0m eta \u001b[36m0:00:00\u001b[0m\n",
            "\u001b[2K     \u001b[90m━━━━━━━━━━━━━━━━━━━━━━━━━━━━━━━━━━━━━━━━\u001b[0m \u001b[32m98.8/98.8 kB\u001b[0m \u001b[31m12.5 MB/s\u001b[0m eta \u001b[36m0:00:00\u001b[0m\n",
            "\u001b[2K     \u001b[90m━━━━━━━━━━━━━━━━━━━━━━━━━━━━━━━━━━━━━━━━\u001b[0m \u001b[32m3.0/3.0 MB\u001b[0m \u001b[31m94.6 MB/s\u001b[0m eta \u001b[36m0:00:00\u001b[0m\n",
            "\u001b[2K     \u001b[90m━━━━━━━━━━━━━━━━━━━━━━━━━━━━━━━━━━━━━━\u001b[0m \u001b[32m115.3/115.3 kB\u001b[0m \u001b[31m14.8 MB/s\u001b[0m eta \u001b[36m0:00:00\u001b[0m\n",
            "\u001b[2K     \u001b[90m━━━━━━━━━━━━━━━━━━━━━━━━━━━━━━━━━━━━━━\u001b[0m \u001b[32m194.1/194.1 kB\u001b[0m \u001b[31m22.0 MB/s\u001b[0m eta \u001b[36m0:00:00\u001b[0m\n",
            "\u001b[2K     \u001b[90m━━━━━━━━━━━━━━━━━━━━━━━━━━━━━━━━━━━━━━\u001b[0m \u001b[32m134.8/134.8 kB\u001b[0m \u001b[31m16.4 MB/s\u001b[0m eta \u001b[36m0:00:00\u001b[0m\n",
            "\u001b[2K     \u001b[90m━━━━━━━━━━━━━━━━━━━━━━━━━━━━━━━━━━━━━━━━\u001b[0m \u001b[32m50.4/50.4 kB\u001b[0m \u001b[31m6.1 MB/s\u001b[0m eta \u001b[36m0:00:00\u001b[0m\n",
            "\u001b[2K     \u001b[90m━━━━━━━━━━━━━━━━━━━━━━━━━━━━━━━━━━━━━━━━\u001b[0m \u001b[32m46.5/46.5 kB\u001b[0m \u001b[31m4.7 MB/s\u001b[0m eta \u001b[36m0:00:00\u001b[0m\n",
            "\u001b[2K     \u001b[90m━━━━━━━━━━━━━━━━━━━━━━━━━━━━━━━━━━━━━━━━\u001b[0m \u001b[32m43.7/43.7 kB\u001b[0m \u001b[31m5.2 MB/s\u001b[0m eta \u001b[36m0:00:00\u001b[0m\n",
            "\u001b[2K     \u001b[90m━━━━━━━━━━━━━━━━━━━━━━━━━━━━━━━━━━━━━━━━\u001b[0m \u001b[32m41.0/41.0 kB\u001b[0m \u001b[31m4.7 MB/s\u001b[0m eta \u001b[36m0:00:00\u001b[0m\n",
            "\u001b[2K     \u001b[90m━━━━━━━━━━━━━━━━━━━━━━━━━━━━━━━━━━━━━━━━\u001b[0m \u001b[32m41.0/41.0 kB\u001b[0m \u001b[31m4.7 MB/s\u001b[0m eta \u001b[36m0:00:00\u001b[0m\n",
            "\u001b[2K     \u001b[90m━━━━━━━━━━━━━━━━━━━━━━━━━━━━━━━━━━━━━━━━\u001b[0m \u001b[32m87.5/87.5 kB\u001b[0m \u001b[31m10.4 MB/s\u001b[0m eta \u001b[36m0:00:00\u001b[0m\n",
            "\u001b[2K     \u001b[90m━━━━━━━━━━━━━━━━━━━━━━━━━━━━━━━━━━━━━━━━\u001b[0m \u001b[32m84.5/84.5 kB\u001b[0m \u001b[31m10.5 MB/s\u001b[0m eta \u001b[36m0:00:00\u001b[0m\n",
            "\u001b[2K     \u001b[90m━━━━━━━━━━━━━━━━━━━━━━━━━━━━━━━━━━━━━━━━\u001b[0m \u001b[32m58.3/58.3 kB\u001b[0m \u001b[31m7.1 MB/s\u001b[0m eta \u001b[36m0:00:00\u001b[0m\n",
            "\u001b[2K     \u001b[90m━━━━━━━━━━━━━━━━━━━━━━━━━━━━━━━━━━━━━━\u001b[0m \u001b[32m468.9/468.9 kB\u001b[0m \u001b[31m38.8 MB/s\u001b[0m eta \u001b[36m0:00:00\u001b[0m\n",
            "\u001b[2K     \u001b[90m━━━━━━━━━━━━━━━━━━━━━━━━━━━━━━━━━━━━━━━━\u001b[0m \u001b[32m67.0/67.0 kB\u001b[0m \u001b[31m7.2 MB/s\u001b[0m eta \u001b[36m0:00:00\u001b[0m\n",
            "\u001b[2K     \u001b[90m━━━━━━━━━━━━━━━━━━━━━━━━━━━━━━━━━━━━━━━━\u001b[0m \u001b[32m74.5/74.5 kB\u001b[0m \u001b[31m8.8 MB/s\u001b[0m eta \u001b[36m0:00:00\u001b[0m\n",
            "\u001b[?25h  Building wheel for ffmpy (setup.py) ... \u001b[?25l\u001b[?25hdone\n",
            "Cloning into 'seamless_communication'...\n",
            "remote: Enumerating objects: 771, done.\u001b[K\n",
            "remote: Counting objects: 100% (264/264), done.\u001b[K\n",
            "remote: Compressing objects: 100% (117/117), done.\u001b[K\n",
            "remote: Total 771 (delta 129), reused 234 (delta 121), pack-reused 507\u001b[K\n",
            "Receiving objects: 100% (771/771), 575.26 KiB | 27.39 MiB/s, done.\n",
            "Resolving deltas: 100% (360/360), done.\n",
            "/content/seamless_communication\n",
            "  Preparing metadata (setup.py) ... \u001b[?25l\u001b[?25hdone\n",
            "\u001b[2K     \u001b[90m━━━━━━━━━━━━━━━━━━━━━━━━━━━━━━━━━━━━━━━\u001b[0m \u001b[32m162.3/162.3 kB\u001b[0m \u001b[31m3.6 MB/s\u001b[0m eta \u001b[36m0:00:00\u001b[0m\n",
            "\u001b[2K     \u001b[90m━━━━━━━━━━━━━━━━━━━━━━━━━━━━━━━━━━━━━━━━\u001b[0m \u001b[32m2.3/2.3 MB\u001b[0m \u001b[31m27.0 MB/s\u001b[0m eta \u001b[36m0:00:00\u001b[0m\n",
            "\u001b[?25h  Building wheel for seamless-communication (setup.py) ... \u001b[?25l\u001b[?25hdone\n",
            "/content\n",
            "Cloning into 'seamless_m4t-hf'...\n",
            "remote: Enumerating objects: 45, done.\u001b[K\n",
            "remote: Counting objects: 100% (45/45), done.\u001b[K\n",
            "remote: Compressing objects: 100% (29/29), done.\u001b[K\n",
            "remote: Total 45 (delta 19), reused 37 (delta 15), pack-reused 0\u001b[K\n",
            "Receiving objects: 100% (45/45), 11.44 KiB | 11.44 MiB/s, done.\n",
            "Resolving deltas: 100% (19/19), done.\n",
            "Downloading assets/sample_input.mp3 (10 KB)\n",
            "Error downloading object: assets/sample_input.mp3 (9823696): Smudge error: Error downloading assets/sample_input.mp3 (982369687f05bf8fcd6923c4ffcccda0fcce92f44eceae5a9d00a431f07ea87b): [982369687f05bf8fcd6923c4ffcccda0fcce92f44eceae5a9d00a431f07ea87b] Object does not exist on the server: [404] Object does not exist on the server\n",
            "\n",
            "Errors logged to /content/seamless_m4t-hf/.git/lfs/logs/20230824T163857.248620605.log\n",
            "Use `git lfs logs last` to view the log.\n",
            "error: external filter 'git-lfs filter-process' failed\n",
            "fatal: assets/sample_input.mp3: smudge filter lfs failed\n",
            "warning: Clone succeeded, but checkout failed.\n",
            "You can inspect what was checked out with 'git status'\n",
            "and retry with 'git restore --source=HEAD :/'\n",
            "\n",
            "/content/seamless_m4t-hf\n",
            "--2023-08-24 16:38:57--  https://huggingface.co/spaces/facebook/seamless_m4t/resolve/main/assets/sample_input.mp3\n",
            "Resolving huggingface.co (huggingface.co)... 13.33.33.102, 13.33.33.110, 13.33.33.55, ...\n",
            "Connecting to huggingface.co (huggingface.co)|13.33.33.102|:443... connected.\n",
            "HTTP request sent, awaiting response... 302 Found\n",
            "Location: https://cdn-lfs.huggingface.co/repos/22/29/2229e95dad104ed5fc3c0a7965fcbe2b47992d3f70e969a2631e9ddcbb32ad9e/982369687f05bf8fcd6923c4ffcccda0fcce92f44eceae5a9d00a431f07ea87b?response-content-disposition=attachment%3B+filename*%3DUTF-8%27%27sample_input.mp3%3B+filename%3D%22sample_input.mp3%22%3B&response-content-type=audio%2Fmpeg&Expires=1693154337&Policy=eyJTdGF0ZW1lbnQiOlt7IkNvbmRpdGlvbiI6eyJEYXRlTGVzc1RoYW4iOnsiQVdTOkVwb2NoVGltZSI6MTY5MzE1NDMzN319LCJSZXNvdXJjZSI6Imh0dHBzOi8vY2RuLWxmcy5odWdnaW5nZmFjZS5jby9yZXBvcy8yMi8yOS8yMjI5ZTk1ZGFkMTA0ZWQ1ZmMzYzBhNzk2NWZjYmUyYjQ3OTkyZDNmNzBlOTY5YTI2MzFlOWRkY2JiMzJhZDllLzk4MjM2OTY4N2YwNWJmOGZjZDY5MjNjNGZmY2NjZGEwZmNjZTkyZjQ0ZWNlYWU1YTlkMDBhNDMxZjA3ZWE4N2I%7EcmVzcG9uc2UtY29udGVudC1kaXNwb3NpdGlvbj0qJnJlc3BvbnNlLWNvbnRlbnQtdHlwZT0qIn1dfQ__&Signature=XGyMKhKYh0SfrxdiuulajDmruoNE3Ekim5TSHar83KmA2gjGnp%7Ev560qsjd-qswJW7Q1HaRbidOFLjKNakHhAOwQPcmhNwOdaS6J5t32rpooBvY1MWO48M98tOAJgG9zd9N2bqFuZmiR-GQFmQjkDz9X44lfowbpBuzfkppSbiglhKru6dk397WxLZnH3-QwqIyxM6CG-699SFnwHalujM3ZP-RGPUg7tObMfHhs2fwGGFf5Amjt8ec6k-TYSwRib-kJCIzdefIqWeDNKGMi8iIMiAdiAfeM4z2vL1SW9WZG53U3-QjXd6axiZHW9zMlijXbuVtmAbnv2A-Y4C43fw__&Key-Pair-Id=KVTP0A1DKRTAX [following]\n",
            "--2023-08-24 16:38:57--  https://cdn-lfs.huggingface.co/repos/22/29/2229e95dad104ed5fc3c0a7965fcbe2b47992d3f70e969a2631e9ddcbb32ad9e/982369687f05bf8fcd6923c4ffcccda0fcce92f44eceae5a9d00a431f07ea87b?response-content-disposition=attachment%3B+filename*%3DUTF-8%27%27sample_input.mp3%3B+filename%3D%22sample_input.mp3%22%3B&response-content-type=audio%2Fmpeg&Expires=1693154337&Policy=eyJTdGF0ZW1lbnQiOlt7IkNvbmRpdGlvbiI6eyJEYXRlTGVzc1RoYW4iOnsiQVdTOkVwb2NoVGltZSI6MTY5MzE1NDMzN319LCJSZXNvdXJjZSI6Imh0dHBzOi8vY2RuLWxmcy5odWdnaW5nZmFjZS5jby9yZXBvcy8yMi8yOS8yMjI5ZTk1ZGFkMTA0ZWQ1ZmMzYzBhNzk2NWZjYmUyYjQ3OTkyZDNmNzBlOTY5YTI2MzFlOWRkY2JiMzJhZDllLzk4MjM2OTY4N2YwNWJmOGZjZDY5MjNjNGZmY2NjZGEwZmNjZTkyZjQ0ZWNlYWU1YTlkMDBhNDMxZjA3ZWE4N2I%7EcmVzcG9uc2UtY29udGVudC1kaXNwb3NpdGlvbj0qJnJlc3BvbnNlLWNvbnRlbnQtdHlwZT0qIn1dfQ__&Signature=XGyMKhKYh0SfrxdiuulajDmruoNE3Ekim5TSHar83KmA2gjGnp%7Ev560qsjd-qswJW7Q1HaRbidOFLjKNakHhAOwQPcmhNwOdaS6J5t32rpooBvY1MWO48M98tOAJgG9zd9N2bqFuZmiR-GQFmQjkDz9X44lfowbpBuzfkppSbiglhKru6dk397WxLZnH3-QwqIyxM6CG-699SFnwHalujM3ZP-RGPUg7tObMfHhs2fwGGFf5Amjt8ec6k-TYSwRib-kJCIzdefIqWeDNKGMi8iIMiAdiAfeM4z2vL1SW9WZG53U3-QjXd6axiZHW9zMlijXbuVtmAbnv2A-Y4C43fw__&Key-Pair-Id=KVTP0A1DKRTAX\n",
            "Resolving cdn-lfs.huggingface.co (cdn-lfs.huggingface.co)... 18.155.68.98, 18.155.68.128, 18.155.68.94, ...\n",
            "Connecting to cdn-lfs.huggingface.co (cdn-lfs.huggingface.co)|18.155.68.98|:443... connected.\n",
            "HTTP request sent, awaiting response... 200 OK\n",
            "Length: 10272 (10K) [audio/mpeg]\n",
            "Saving to: ‘/content/seamless_m4t-hf/assets/sample_input.mp3’\n",
            "\n",
            "/content/seamless_m 100%[===================>]  10.03K  --.-KB/s    in 0s      \n",
            "\n",
            "2023-08-24 16:38:57 (258 MB/s) - ‘/content/seamless_m4t-hf/assets/sample_input.mp3’ saved [10272/10272]\n",
            "\n",
            "--2023-08-24 16:38:57--  https://huggingface.co/spaces/facebook/seamless_m4t/resolve/main/assets/sample_input_2.mp3\n",
            "Resolving huggingface.co (huggingface.co)... 13.33.33.20, 13.33.33.110, 13.33.33.102, ...\n",
            "Connecting to huggingface.co (huggingface.co)|13.33.33.20|:443... connected.\n",
            "HTTP request sent, awaiting response... 302 Found\n",
            "Location: https://cdn-lfs.huggingface.co/repos/22/29/2229e95dad104ed5fc3c0a7965fcbe2b47992d3f70e969a2631e9ddcbb32ad9e/6a505a4641e3f5f0ddec9508832793aa20e63d2545530b66bc04a9bd19a742e6?response-content-disposition=attachment%3B+filename*%3DUTF-8%27%27sample_input_2.mp3%3B+filename%3D%22sample_input_2.mp3%22%3B&response-content-type=audio%2Fmpeg&Expires=1693154337&Policy=eyJTdGF0ZW1lbnQiOlt7IkNvbmRpdGlvbiI6eyJEYXRlTGVzc1RoYW4iOnsiQVdTOkVwb2NoVGltZSI6MTY5MzE1NDMzN319LCJSZXNvdXJjZSI6Imh0dHBzOi8vY2RuLWxmcy5odWdnaW5nZmFjZS5jby9yZXBvcy8yMi8yOS8yMjI5ZTk1ZGFkMTA0ZWQ1ZmMzYzBhNzk2NWZjYmUyYjQ3OTkyZDNmNzBlOTY5YTI2MzFlOWRkY2JiMzJhZDllLzZhNTA1YTQ2NDFlM2Y1ZjBkZGVjOTUwODgzMjc5M2FhMjBlNjNkMjU0NTUzMGI2NmJjMDRhOWJkMTlhNzQyZTY%7EcmVzcG9uc2UtY29udGVudC1kaXNwb3NpdGlvbj0qJnJlc3BvbnNlLWNvbnRlbnQtdHlwZT0qIn1dfQ__&Signature=aJojoVKVg0lrUZ1suUcd%7ETVp2MfPh5RbMMX-yyoCJ7-Q%7EaBasdR7XS5gscth7phFc3bZ2xKnjXb-cXgW1cAmr1Ii--aJOS1Xdfc028kmKuMKSk71eD-jwIf5Wr7YnOjnmwHH-7JLg%7EayFIN1L2-FgD7np%7EPDyxrnOSrDcNeU74oUf2595GT6yoq28ZpYGiI58m6dhOLv5KzBcf%7EIWQsVDSa2Sdz4jwTI7yxJexsuWo5vE4hw0l60MSG-EoIHcp6RgdK-xpJNWTRzpp6xcYz8LftUqVx1oARwbUrRmTILlpNZgD-NU1kVJ5UMzdxVt3efa160aXzKbeT8u57u%7ECFM8w__&Key-Pair-Id=KVTP0A1DKRTAX [following]\n",
            "--2023-08-24 16:38:57--  https://cdn-lfs.huggingface.co/repos/22/29/2229e95dad104ed5fc3c0a7965fcbe2b47992d3f70e969a2631e9ddcbb32ad9e/6a505a4641e3f5f0ddec9508832793aa20e63d2545530b66bc04a9bd19a742e6?response-content-disposition=attachment%3B+filename*%3DUTF-8%27%27sample_input_2.mp3%3B+filename%3D%22sample_input_2.mp3%22%3B&response-content-type=audio%2Fmpeg&Expires=1693154337&Policy=eyJTdGF0ZW1lbnQiOlt7IkNvbmRpdGlvbiI6eyJEYXRlTGVzc1RoYW4iOnsiQVdTOkVwb2NoVGltZSI6MTY5MzE1NDMzN319LCJSZXNvdXJjZSI6Imh0dHBzOi8vY2RuLWxmcy5odWdnaW5nZmFjZS5jby9yZXBvcy8yMi8yOS8yMjI5ZTk1ZGFkMTA0ZWQ1ZmMzYzBhNzk2NWZjYmUyYjQ3OTkyZDNmNzBlOTY5YTI2MzFlOWRkY2JiMzJhZDllLzZhNTA1YTQ2NDFlM2Y1ZjBkZGVjOTUwODgzMjc5M2FhMjBlNjNkMjU0NTUzMGI2NmJjMDRhOWJkMTlhNzQyZTY%7EcmVzcG9uc2UtY29udGVudC1kaXNwb3NpdGlvbj0qJnJlc3BvbnNlLWNvbnRlbnQtdHlwZT0qIn1dfQ__&Signature=aJojoVKVg0lrUZ1suUcd%7ETVp2MfPh5RbMMX-yyoCJ7-Q%7EaBasdR7XS5gscth7phFc3bZ2xKnjXb-cXgW1cAmr1Ii--aJOS1Xdfc028kmKuMKSk71eD-jwIf5Wr7YnOjnmwHH-7JLg%7EayFIN1L2-FgD7np%7EPDyxrnOSrDcNeU74oUf2595GT6yoq28ZpYGiI58m6dhOLv5KzBcf%7EIWQsVDSa2Sdz4jwTI7yxJexsuWo5vE4hw0l60MSG-EoIHcp6RgdK-xpJNWTRzpp6xcYz8LftUqVx1oARwbUrRmTILlpNZgD-NU1kVJ5UMzdxVt3efa160aXzKbeT8u57u%7ECFM8w__&Key-Pair-Id=KVTP0A1DKRTAX\n",
            "Resolving cdn-lfs.huggingface.co (cdn-lfs.huggingface.co)... 18.155.68.128, 18.155.68.94, 18.155.68.98, ...\n",
            "Connecting to cdn-lfs.huggingface.co (cdn-lfs.huggingface.co)|18.155.68.128|:443... connected.\n",
            "HTTP request sent, awaiting response... 200 OK\n",
            "Length: 30624 (30K) [audio/mpeg]\n",
            "Saving to: ‘/content/seamless_m4t-hf/assets/sample_input_2.mp3’\n",
            "\n",
            "/content/seamless_m 100%[===================>]  29.91K  --.-KB/s    in 0s      \n",
            "\n",
            "2023-08-24 16:38:57 (241 MB/s) - ‘/content/seamless_m4t-hf/assets/sample_input_2.mp3’ saved [30624/30624]\n",
            "\n",
            "Downloading the checkpoint of the model 'seamlessM4T_large'...\n",
            "100% 10.7G/10.7G [00:52<00:00, 217MB/s]\n",
            "Downloading the tokenizer of the model 'seamlessM4T_large'...\n",
            "100% 4.93M/4.93M [00:00<00:00, 280MB/s]\n",
            "Downloading the checkpoint of the model 'vocoder_36langs'...\n",
            "100% 160M/160M [00:00<00:00, 329MB/s]\n",
            "Running on local URL:  http://127.0.0.1:7860\n",
            "Running on public URL: https://8767c9f77fb93bdc88.gradio.live\n",
            "\n",
            "This share link expires in 72 hours. For free permanent hosting and GPU upgrades, run `gradio deploy` from Terminal to deploy to Spaces (https://huggingface.co/spaces)\n",
            "Keyboard interruption in main thread... closing server.\n",
            "Traceback (most recent call last):\n",
            "  File \"/usr/local/lib/python3.10/dist-packages/gradio/blocks.py\", line 2198, in block_thread\n",
            "    time.sleep(0.1)\n",
            "KeyboardInterrupt\n",
            "\n",
            "During handling of the above exception, another exception occurred:\n",
            "\n",
            "Traceback (most recent call last):\n",
            "  File \"/content/seamless_m4t-hf/app.py\", line 412, in <module>\n",
            "    demo.queue(max_size=50).launch(share=True)\n",
            "  File \"/usr/local/lib/python3.10/dist-packages/gradio/blocks.py\", line 2114, in launch\n",
            "    self.block_thread()\n",
            "  File \"/usr/local/lib/python3.10/dist-packages/gradio/blocks.py\", line 2202, in block_thread\n",
            "    self.server.close()\n",
            "  File \"/usr/local/lib/python3.10/dist-packages/gradio/networking.py\", line 49, in close\n",
            "    self.thread.join()\n",
            "  File \"/usr/lib/python3.10/threading.py\", line 1096, in join\n",
            "    self._wait_for_tstate_lock()\n",
            "  File \"/usr/lib/python3.10/threading.py\", line 1116, in _wait_for_tstate_lock\n",
            "    if lock.acquire(block, timeout):\n",
            "KeyboardInterrupt\n",
            "Killing tunnel 127.0.0.1:7860 <> https://8767c9f77fb93bdc88.gradio.live\n",
            "^C\n"
          ]
        }
      ],
      "source": [
        "%cd /content\n",
        "!pip install -q --extra-index-url https://test.pypi.org/simple/ fairseq2==0.1.0rc0\n",
        "!pip install -q pre-commit datasets gradio==3.40.1\n",
        "!git clone https://github.com/facebookresearch/seamless_communication\n",
        "%cd /content/seamless_communication\n",
        "!pip install -q .\n",
        "\n",
        "%cd /content\n",
        "!git clone -b dev https://github.com/camenduru/seamless_m4t-hf\n",
        "%cd /content/seamless_m4t-hf\n",
        "\n",
        "!wget https://huggingface.co/spaces/facebook/seamless_m4t/resolve/main/assets/sample_input.mp3 -O /content/seamless_m4t-hf/assets/sample_input.mp3\n",
        "!wget https://huggingface.co/spaces/facebook/seamless_m4t/resolve/main/assets/sample_input_2.mp3 -O /content/seamless_m4t-hf/assets/sample_input_2.mp3\n",
        "\n",
        "!python app.py"
      ]
    },
    {
      "cell_type": "code",
      "source": [
        "gpu_info = !nvidia-smi\n",
        "gpu_info = '\\n'.join(gpu_info)\n",
        "if gpu_info.find('failed') >= 0:\n",
        "  print('Not connected to a GPU')\n",
        "else:\n",
        "  print(gpu_info)"
      ],
      "metadata": {
        "id": "tNd7GbVUyKY2",
        "outputId": "fc8ecc4e-387d-4438-8e8b-62ab23167de3",
        "colab": {
          "base_uri": "https://localhost:8080/"
        }
      },
      "execution_count": 2,
      "outputs": [
        {
          "output_type": "stream",
          "name": "stdout",
          "text": [
            "Thu Aug 24 21:52:30 2023       \n",
            "+-----------------------------------------------------------------------------+\n",
            "| NVIDIA-SMI 525.105.17   Driver Version: 525.105.17   CUDA Version: 12.0     |\n",
            "|-------------------------------+----------------------+----------------------+\n",
            "| GPU  Name        Persistence-M| Bus-Id        Disp.A | Volatile Uncorr. ECC |\n",
            "| Fan  Temp  Perf  Pwr:Usage/Cap|         Memory-Usage | GPU-Util  Compute M. |\n",
            "|                               |                      |               MIG M. |\n",
            "|===============================+======================+======================|\n",
            "|   0  Tesla T4            Off  | 00000000:00:04.0 Off |                    0 |\n",
            "| N/A   78C    P0    36W /  70W |      0MiB / 15360MiB |     47%      Default |\n",
            "|                               |                      |                  N/A |\n",
            "+-------------------------------+----------------------+----------------------+\n",
            "                                                                               \n",
            "+-----------------------------------------------------------------------------+\n",
            "| Processes:                                                                  |\n",
            "|  GPU   GI   CI        PID   Type   Process name                  GPU Memory |\n",
            "|        ID   ID                                                   Usage      |\n",
            "|=============================================================================|\n",
            "|  No running processes found                                                 |\n",
            "+-----------------------------------------------------------------------------+\n"
          ]
        }
      ]
    },
    {
      "cell_type": "code",
      "source": [
        "from psutil import virtual_memory\n",
        "ram_gb = virtual_memory().total / 1e9\n",
        "print('Your runtime has {:.1f} gigabytes of available RAM\\n'.format(ram_gb))\n",
        "\n",
        "if ram_gb < 20:\n",
        "  print('Not using a high-RAM runtime')\n",
        "else:\n",
        "  print('You are using a high-RAM runtime!')"
      ],
      "metadata": {
        "id": "yueFWZUubCmC",
        "outputId": "20d717bb-9a47-441d-8713-81249b7be35e",
        "colab": {
          "base_uri": "https://localhost:8080/"
        }
      },
      "execution_count": 3,
      "outputs": [
        {
          "output_type": "stream",
          "name": "stdout",
          "text": [
            "Your runtime has 13.6 gigabytes of available RAM\n",
            "\n",
            "Not using a high-RAM runtime\n"
          ]
        }
      ]
    }
  ],
  "metadata": {
    "accelerator": "GPU",
    "colab": {
      "gpuType": "T4",
      "provenance": [],
      "include_colab_link": true
    },
    "kernelspec": {
      "display_name": "Python 3",
      "name": "python3"
    },
    "language_info": {
      "name": "python"
    }
  },
  "nbformat": 4,
  "nbformat_minor": 0
}